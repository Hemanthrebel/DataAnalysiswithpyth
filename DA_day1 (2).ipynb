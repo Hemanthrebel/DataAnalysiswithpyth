{
  "nbformat": 4,
  "nbformat_minor": 0,
  "metadata": {
    "colab": {
      "provenance": []
    },
    "kernelspec": {
      "name": "python3",
      "display_name": "Python 3"
    },
    "language_info": {
      "name": "python"
    }
  },
  "cells": [
    {
      "cell_type": "code",
      "execution_count": null,
      "metadata": {
        "colab": {
          "base_uri": "https://localhost:8080/"
        },
        "id": "8VXHMbA6Ebhn",
        "outputId": "352e2c71-193b-4c2b-bbe8-8383943e6cd5"
      },
      "outputs": [
        {
          "output_type": "stream",
          "name": "stdout",
          "text": [
            "[1, 2, 4, 5, 7, 8, 6, 7, 8, 9]\n",
            "[6, 7, 8, 9]\n",
            "[1, 2, 7, 8, 6, 7, 8, 9]\n"
          ]
        }
      ],
      "source": [
        "l1=[1,2,4,5,7,8]\n",
        "l2=[6,7,8,9]\n",
        "l1.extend(l2)\n",
        "print(l1)\n",
        "l1.pop(3)\n",
        "print(l2)\n",
        "l1.remove(4)\n",
        "print(l1)"
      ]
    },
    {
      "cell_type": "code",
      "source": [
        "l3=[1,7,9,10,3,5]\n",
        "print(max(l3))"
      ],
      "metadata": {
        "colab": {
          "base_uri": "https://localhost:8080/"
        },
        "id": "r5CdlX2yFdYt",
        "outputId": "9c4b1676-1bb7-4650-aa8f-34222b79fbab"
      },
      "execution_count": null,
      "outputs": [
        {
          "output_type": "stream",
          "name": "stdout",
          "text": [
            "10\n"
          ]
        }
      ]
    },
    {
      "cell_type": "code",
      "source": [
        "#data slicing\n",
        "a=\"python is a language\"\n",
        "print(a[:6])\n",
        "print(a[::-1])"
      ],
      "metadata": {
        "colab": {
          "base_uri": "https://localhost:8080/"
        },
        "id": "0aH7G8Z-GH6u",
        "outputId": "844cdc18-3fb6-4b8c-ecb4-4921a41ea514"
      },
      "execution_count": null,
      "outputs": [
        {
          "output_type": "stream",
          "name": "stdout",
          "text": [
            "python\n",
            "egaugnal a si nohtyp\n"
          ]
        }
      ]
    },
    {
      "cell_type": "code",
      "source": [
        "#list comperhension\n",
        "l4=[i for i in[1,2,3,4,5,6,7] if i%2==0]\n",
        "print(l4)"
      ],
      "metadata": {
        "colab": {
          "base_uri": "https://localhost:8080/"
        },
        "id": "x_xMfA7VGvri",
        "outputId": "63138264-7a36-4b79-ea87-de3408bd4631"
      },
      "execution_count": null,
      "outputs": [
        {
          "output_type": "stream",
          "name": "stdout",
          "text": [
            "[2, 4, 6]\n"
          ]
        }
      ]
    },
    {
      "cell_type": "code",
      "source": [
        "#the salary of 5 employees in a company is taken in a list.the tax is 10% if the salary is lessthan or=50000 or it is 15%\n",
        "#create a new list with tax amounts\n",
        "#list_name=[(body of if if (condition) else (body of else) iterate(for loops)]\n",
        "l5=[37000,47000,78000,89000,50000]\n",
        "tax=[i*0.1 if i<=50000 else i*0.15 for i in l5]\n",
        "print(tax)\n",
        "\n"
      ],
      "metadata": {
        "colab": {
          "base_uri": "https://localhost:8080/"
        },
        "id": "T7arlDOHHVmy",
        "outputId": "108879e0-9ff8-4eb9-ce40-ccc685b40439"
      },
      "execution_count": null,
      "outputs": [
        {
          "output_type": "stream",
          "name": "stdout",
          "text": [
            "[3700.0, 4700.0, 11700.0, 13350.0, 5000.0]\n"
          ]
        }
      ]
    },
    {
      "cell_type": "code",
      "source": [
        "#explict\n",
        "a=\"5\"\n",
        "print(type(a))\n",
        "b=int(a)\n",
        "print(type(b))"
      ],
      "metadata": {
        "colab": {
          "base_uri": "https://localhost:8080/"
        },
        "id": "Q7zvbQuvLxum",
        "outputId": "a8e8ac9a-e99b-4076-df1a-06969a8bb72c"
      },
      "execution_count": null,
      "outputs": [
        {
          "output_type": "stream",
          "name": "stdout",
          "text": [
            "<class 'str'>\n",
            "<class 'int'>\n"
          ]
        }
      ]
    },
    {
      "cell_type": "code",
      "source": [
        "#type casting\n",
        "#implict\n",
        "a=5\n",
        "print(type(a))\n",
        "a=\"5\"\n",
        "print(type(b))"
      ],
      "metadata": {
        "colab": {
          "base_uri": "https://localhost:8080/"
        },
        "id": "LKrpOv-TMWyv",
        "outputId": "c613eafe-9635-4646-e969-c5f157dd570f"
      },
      "execution_count": null,
      "outputs": [
        {
          "output_type": "stream",
          "name": "stdout",
          "text": [
            "<class 'int'>\n",
            "<class 'int'>\n"
          ]
        }
      ]
    },
    {
      "cell_type": "code",
      "source": [
        "a=int(input(\"enter a number\"))\n",
        "while a<10:\n",
        "  print(a)\n",
        "  a+=1"
      ],
      "metadata": {
        "colab": {
          "base_uri": "https://localhost:8080/"
        },
        "id": "qZ0eLVy6bl1z",
        "outputId": "8830bf41-03c9-4f51-d150-bcaac36d1ce2"
      },
      "execution_count": null,
      "outputs": [
        {
          "output_type": "stream",
          "name": "stdout",
          "text": [
            "enter a number4\n",
            "4\n",
            "5\n",
            "6\n",
            "7\n",
            "8\n",
            "9\n"
          ]
        }
      ]
    },
    {
      "cell_type": "code",
      "source": [
        "#importing\n",
        "import numpy as np"
      ],
      "metadata": {
        "id": "xt_H_8IShrg1"
      },
      "execution_count": null,
      "outputs": []
    },
    {
      "cell_type": "code",
      "source": [
        "#creating 1d array\n",
        "A=np.array([2,3,4,5])\n",
        "print(type(A))"
      ],
      "metadata": {
        "colab": {
          "base_uri": "https://localhost:8080/"
        },
        "id": "4oSFd9dFhzY5",
        "outputId": "63137ef1-b1a8-47d9-d05c-e25a1d7d5202"
      },
      "execution_count": null,
      "outputs": [
        {
          "output_type": "stream",
          "name": "stdout",
          "text": [
            "<class 'numpy.ndarray'>\n"
          ]
        }
      ]
    }
  ]
}