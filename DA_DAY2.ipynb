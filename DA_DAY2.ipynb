{
  "nbformat": 4,
  "nbformat_minor": 0,
  "metadata": {
    "colab": {
      "provenance": []
    },
    "kernelspec": {
      "name": "python3",
      "display_name": "Python 3"
    },
    "language_info": {
      "name": "python"
    }
  },
  "cells": [
    {
      "cell_type": "code",
      "source": [
        "import numpy as np\n",
        "#RANDOM MODULE IS SUB-PACKAGE OF NUMPY"
      ],
      "metadata": {
        "id": "4cTl29rftTAt"
      },
      "execution_count": null,
      "outputs": []
    },
    {
      "cell_type": "code",
      "source": [
        "a=np.random.rand(8,4) #rand-range between 0 and 1\n",
        "print(a)"
      ],
      "metadata": {
        "colab": {
          "base_uri": "https://localhost:8080/"
        },
        "id": "8iWrPoI3tmIa",
        "outputId": "6841a048-274e-49e5-8c23-0202cec436b4"
      },
      "execution_count": null,
      "outputs": [
        {
          "output_type": "stream",
          "name": "stdout",
          "text": [
            "[[0.34123981 0.23945536 0.40887908 0.97933897]\n",
            " [0.46208727 0.2345325  0.59584348 0.56848945]\n",
            " [0.56231045 0.4809855  0.53921733 0.77965444]\n",
            " [0.71339403 0.10245156 0.57159547 0.16344499]\n",
            " [0.71208578 0.37090658 0.57908179 0.96244154]\n",
            " [0.79647067 0.3064511  0.76721246 0.48291048]\n",
            " [0.09563434 0.65688868 0.32654041 0.64951903]\n",
            " [0.10874417 0.28127498 0.13910239 0.41231568]]\n"
          ]
        }
      ]
    },
    {
      "cell_type": "code",
      "source": [
        "b=np.random.rand(1)\n",
        "print(b)"
      ],
      "metadata": {
        "colab": {
          "base_uri": "https://localhost:8080/"
        },
        "id": "weIaJLeEt7cy",
        "outputId": "4857499f-0d1d-41a9-b7bc-4858777a123a"
      },
      "execution_count": null,
      "outputs": [
        {
          "output_type": "stream",
          "name": "stdout",
          "text": [
            "[0.01865726]\n"
          ]
        }
      ]
    },
    {
      "cell_type": "code",
      "source": [
        "a=10*np.random.rand(8,4) #rand-range between 0 and 1\n",
        "print(a)"
      ],
      "metadata": {
        "colab": {
          "base_uri": "https://localhost:8080/"
        },
        "id": "vckC5bFevNQ5",
        "outputId": "f019f9b9-2a42-46e0-889a-7da3ef2d6c4b"
      },
      "execution_count": null,
      "outputs": [
        {
          "output_type": "stream",
          "name": "stdout",
          "text": [
            "[[3.94010708 6.68889834 9.87384097 0.60958334]\n",
            " [6.1601504  1.78777993 6.90413171 3.07613534]\n",
            " [3.78470841 3.09219883 6.66271399 3.06617632]\n",
            " [6.95271213 4.74428881 7.35931212 7.07639286]\n",
            " [9.21803385 4.24880637 1.50799458 5.39683912]\n",
            " [7.06616177 9.78797335 0.15578956 0.94972183]\n",
            " [3.24461413 3.68480536 8.37782118 9.22725991]\n",
            " [5.21246235 8.41129372 3.30555139 0.32008586]]\n"
          ]
        }
      ]
    },
    {
      "cell_type": "code",
      "source": [
        "a=np.floor(10*np.random.rand(8,4)) #rand-range between 0 and 1\n",
        "print(a)"
      ],
      "metadata": {
        "colab": {
          "base_uri": "https://localhost:8080/"
        },
        "id": "q5pxBbhNva0t",
        "outputId": "4e80afe7-f66c-4b9e-c8b0-7b5e65614e1d"
      },
      "execution_count": null,
      "outputs": [
        {
          "output_type": "stream",
          "name": "stdout",
          "text": [
            "[[8. 2. 5. 2.]\n",
            " [4. 2. 0. 3.]\n",
            " [1. 5. 0. 6.]\n",
            " [4. 2. 8. 2.]\n",
            " [2. 9. 9. 4.]\n",
            " [2. 7. 1. 3.]\n",
            " [0. 2. 2. 4.]\n",
            " [5. 7. 0. 0.]]\n"
          ]
        }
      ]
    },
    {
      "cell_type": "code",
      "source": [
        "c=np.arange(1,33).reshape(8,4)\n",
        "print(c)"
      ],
      "metadata": {
        "colab": {
          "base_uri": "https://localhost:8080/"
        },
        "id": "QC3LNGrowGNU",
        "outputId": "48dc3c9f-42bf-41b3-b16b-cbdaf8edab55"
      },
      "execution_count": null,
      "outputs": [
        {
          "output_type": "stream",
          "name": "stdout",
          "text": [
            "[[ 1  2  3  4]\n",
            " [ 5  6  7  8]\n",
            " [ 9 10 11 12]\n",
            " [13 14 15 16]\n",
            " [17 18 19 20]\n",
            " [21 22 23 24]\n",
            " [25 26 27 28]\n",
            " [29 30 31 32]]\n"
          ]
        }
      ]
    },
    {
      "cell_type": "code",
      "source": [
        "np.vsplit(a,4)"
      ],
      "metadata": {
        "colab": {
          "base_uri": "https://localhost:8080/"
        },
        "id": "Lickp-8qwemg",
        "outputId": "aeda3600-2693-480a-9ccb-f65607749483"
      },
      "execution_count": null,
      "outputs": [
        {
          "output_type": "execute_result",
          "data": {
            "text/plain": [
              "[array([[8., 2., 5., 2.],\n",
              "        [4., 2., 0., 3.]]),\n",
              " array([[1., 5., 0., 6.],\n",
              "        [4., 2., 8., 2.]]),\n",
              " array([[2., 9., 9., 4.],\n",
              "        [2., 7., 1., 3.]]),\n",
              " array([[0., 2., 2., 4.],\n",
              "        [5., 7., 0., 0.]])]"
            ]
          },
          "metadata": {},
          "execution_count": 13
        }
      ]
    },
    {
      "cell_type": "code",
      "source": [
        "np.vsplit(a,(4,7))"
      ],
      "metadata": {
        "colab": {
          "base_uri": "https://localhost:8080/"
        },
        "id": "WHCezziOw7BP",
        "outputId": "590e5e2a-a31b-4913-a3ad-0e8d525ea1d8"
      },
      "execution_count": null,
      "outputs": [
        {
          "output_type": "execute_result",
          "data": {
            "text/plain": [
              "[array([[8., 2., 5., 2.],\n",
              "        [4., 2., 0., 3.],\n",
              "        [1., 5., 0., 6.],\n",
              "        [4., 2., 8., 2.]]),\n",
              " array([[2., 9., 9., 4.],\n",
              "        [2., 7., 1., 3.],\n",
              "        [0., 2., 2., 4.]]),\n",
              " array([[5., 7., 0., 0.]])]"
            ]
          },
          "metadata": {},
          "execution_count": 19
        }
      ]
    },
    {
      "cell_type": "code",
      "source": [
        "np.vsplit(a,(3,5))   #split it after third row"
      ],
      "metadata": {
        "colab": {
          "base_uri": "https://localhost:8080/"
        },
        "id": "X_pLoTq0zB_g",
        "outputId": "8a7a9d33-4344-4a17-9f85-efb8d33749ac"
      },
      "execution_count": null,
      "outputs": [
        {
          "output_type": "execute_result",
          "data": {
            "text/plain": [
              "[array([[8., 2., 5., 2.],\n",
              "        [4., 2., 0., 3.],\n",
              "        [1., 5., 0., 6.]]),\n",
              " array([[4., 2., 8., 2.],\n",
              "        [2., 9., 9., 4.]]),\n",
              " array([[2., 7., 1., 3.],\n",
              "        [0., 2., 2., 4.],\n",
              "        [5., 7., 0., 0.]])]"
            ]
          },
          "metadata": {},
          "execution_count": 20
        }
      ]
    },
    {
      "cell_type": "code",
      "source": [
        "np.vsplit(a,(8,4))"
      ],
      "metadata": {
        "colab": {
          "base_uri": "https://localhost:8080/"
        },
        "id": "NPfd3nok0ENz",
        "outputId": "a9a45d05-b001-4f26-88dd-8b3cf92150a3"
      },
      "execution_count": null,
      "outputs": [
        {
          "output_type": "execute_result",
          "data": {
            "text/plain": [
              "[array([[8., 2., 5., 2.],\n",
              "        [4., 2., 0., 3.],\n",
              "        [1., 5., 0., 6.],\n",
              "        [4., 2., 8., 2.],\n",
              "        [2., 9., 9., 4.],\n",
              "        [2., 7., 1., 3.],\n",
              "        [0., 2., 2., 4.],\n",
              "        [5., 7., 0., 0.]]),\n",
              " array([], shape=(0, 4), dtype=float64),\n",
              " array([[2., 9., 9., 4.],\n",
              "        [2., 7., 1., 3.],\n",
              "        [0., 2., 2., 4.],\n",
              "        [5., 7., 0., 0.]])]"
            ]
          },
          "metadata": {},
          "execution_count": 24
        }
      ]
    },
    {
      "cell_type": "code",
      "source": [
        "np.vsplit(a,(3,7))"
      ],
      "metadata": {
        "colab": {
          "base_uri": "https://localhost:8080/"
        },
        "id": "X_NNexBg0pX4",
        "outputId": "2be6efc7-955b-4931-eb34-266f503ad96f"
      },
      "execution_count": null,
      "outputs": [
        {
          "output_type": "execute_result",
          "data": {
            "text/plain": [
              "[array([[8., 2., 5., 2.],\n",
              "        [4., 2., 0., 3.],\n",
              "        [1., 5., 0., 6.]]),\n",
              " array([[4., 2., 8., 2.],\n",
              "        [2., 9., 9., 4.],\n",
              "        [2., 7., 1., 3.],\n",
              "        [0., 2., 2., 4.]]),\n",
              " array([[5., 7., 0., 0.]])]"
            ]
          },
          "metadata": {},
          "execution_count": 25
        }
      ]
    },
    {
      "cell_type": "code",
      "source": [
        "np.pi    #trigonometry"
      ],
      "metadata": {
        "colab": {
          "base_uri": "https://localhost:8080/"
        },
        "id": "pOz-sta23lyL",
        "outputId": "6472c250-d1da-4e1c-af45-47abd6f7bab5"
      },
      "execution_count": null,
      "outputs": [
        {
          "output_type": "execute_result",
          "data": {
            "text/plain": [
              "3.141592653589793"
            ]
          },
          "metadata": {},
          "execution_count": 26
        }
      ]
    },
    {
      "cell_type": "code",
      "source": [
        "h=[np.pi/4,np.pi/3,np.pi/2,np.pi]\n",
        "print(h)"
      ],
      "metadata": {
        "colab": {
          "base_uri": "https://localhost:8080/"
        },
        "id": "qfou4nGY35Q4",
        "outputId": "e62fa9b7-2b13-4e6a-9fb2-3ef53e0795f9"
      },
      "execution_count": null,
      "outputs": [
        {
          "output_type": "stream",
          "name": "stdout",
          "text": [
            "[0.7853981633974483, 1.0471975511965976, 1.5707963267948966, 3.141592653589793]\n"
          ]
        }
      ]
    },
    {
      "cell_type": "code",
      "source": [
        "np.rad2deg(h)  #convert radius to degree"
      ],
      "metadata": {
        "colab": {
          "base_uri": "https://localhost:8080/"
        },
        "id": "-dnEsI2T4QOY",
        "outputId": "2b1ebcc2-1df9-4fb4-895f-216c26039325"
      },
      "execution_count": null,
      "outputs": [
        {
          "output_type": "execute_result",
          "data": {
            "text/plain": [
              "array([ 45.,  60.,  90., 180.])"
            ]
          },
          "metadata": {},
          "execution_count": 29
        }
      ]
    },
    {
      "cell_type": "code",
      "source": [
        "np.deg2rad(h)  #convert degree to radius"
      ],
      "metadata": {
        "colab": {
          "base_uri": "https://localhost:8080/"
        },
        "id": "cY0omstv5QO5",
        "outputId": "513490a8-3602-41b1-aeea-a83580b5cc29"
      },
      "execution_count": null,
      "outputs": [
        {
          "output_type": "execute_result",
          "data": {
            "text/plain": [
              "array([0.01370778, 0.01827705, 0.02741557, 0.05483114])"
            ]
          },
          "metadata": {},
          "execution_count": 33
        }
      ]
    },
    {
      "cell_type": "code",
      "source": [
        "np.sin(0.785) #radius"
      ],
      "metadata": {
        "colab": {
          "base_uri": "https://localhost:8080/"
        },
        "id": "ZdbinO7f5rmF",
        "outputId": "3af9353e-1ad9-4ad3-b0b2-54a745389de3"
      },
      "execution_count": null,
      "outputs": [
        {
          "output_type": "execute_result",
          "data": {
            "text/plain": [
              "0.706825181105366"
            ]
          },
          "metadata": {},
          "execution_count": 34
        }
      ]
    },
    {
      "cell_type": "code",
      "source": [
        "np.cos(0)"
      ],
      "metadata": {
        "colab": {
          "base_uri": "https://localhost:8080/"
        },
        "id": "BzQqSMRN578D",
        "outputId": "d0a1192a-c915-47ce-e791-70e656ad3ea0"
      },
      "execution_count": null,
      "outputs": [
        {
          "output_type": "execute_result",
          "data": {
            "text/plain": [
              "1.0"
            ]
          },
          "metadata": {},
          "execution_count": 35
        }
      ]
    },
    {
      "cell_type": "code",
      "source": [
        "np.cos(1)"
      ],
      "metadata": {
        "colab": {
          "base_uri": "https://localhost:8080/"
        },
        "id": "z4vNciDM6AoR",
        "outputId": "0fb37839-42ac-4ba2-a8a4-19bbafdd0313"
      },
      "execution_count": null,
      "outputs": [
        {
          "output_type": "execute_result",
          "data": {
            "text/plain": [
              "0.5403023058681398"
            ]
          },
          "metadata": {},
          "execution_count": 36
        }
      ]
    },
    {
      "cell_type": "code",
      "source": [
        "np.tan(45)"
      ],
      "metadata": {
        "colab": {
          "base_uri": "https://localhost:8080/"
        },
        "id": "aikszXLA6P53",
        "outputId": "0acc9f08-3f96-48c2-aaf5-c04605c53055"
      },
      "execution_count": null,
      "outputs": [
        {
          "output_type": "execute_result",
          "data": {
            "text/plain": [
              "1.6197751905438615"
            ]
          },
          "metadata": {},
          "execution_count": 37
        }
      ]
    },
    {
      "cell_type": "code",
      "source": [
        "np.tan(0)"
      ],
      "metadata": {
        "colab": {
          "base_uri": "https://localhost:8080/"
        },
        "id": "FLaQB8G76V83",
        "outputId": "18711918-3201-4835-9172-d55e2e8efe9e"
      },
      "execution_count": null,
      "outputs": [
        {
          "output_type": "execute_result",
          "data": {
            "text/plain": [
              "0.0"
            ]
          },
          "metadata": {},
          "execution_count": 38
        }
      ]
    },
    {
      "cell_type": "code",
      "source": [
        "np.tan(90)"
      ],
      "metadata": {
        "colab": {
          "base_uri": "https://localhost:8080/"
        },
        "id": "ui44z0WS6bj6",
        "outputId": "dd773709-b5ea-487f-9944-0fd6f66715da"
      },
      "execution_count": null,
      "outputs": [
        {
          "output_type": "execute_result",
          "data": {
            "text/plain": [
              "-1.995200412208242"
            ]
          },
          "metadata": {},
          "execution_count": 39
        }
      ]
    },
    {
      "cell_type": "code",
      "source": [
        "#Statistics\n",
        "st=np.array([23,45,67,89,21,34])"
      ],
      "metadata": {
        "id": "W-d64Jbh6th5"
      },
      "execution_count": null,
      "outputs": []
    },
    {
      "cell_type": "code",
      "source": [
        "np.mean(st)"
      ],
      "metadata": {
        "colab": {
          "base_uri": "https://localhost:8080/"
        },
        "id": "q12yGLHQ6_HQ",
        "outputId": "8c27e3c5-deeb-49fb-ad10-c375be47f6cf"
      },
      "execution_count": null,
      "outputs": [
        {
          "output_type": "execute_result",
          "data": {
            "text/plain": [
              "46.5"
            ]
          },
          "metadata": {},
          "execution_count": 43
        }
      ]
    },
    {
      "cell_type": "code",
      "source": [
        "np.median(st)"
      ],
      "metadata": {
        "colab": {
          "base_uri": "https://localhost:8080/"
        },
        "id": "tKcee4K87a2M",
        "outputId": "40371a89-40a6-493a-c5b8-0bd5b05c34b2"
      },
      "execution_count": null,
      "outputs": [
        {
          "output_type": "execute_result",
          "data": {
            "text/plain": [
              "39.5"
            ]
          },
          "metadata": {},
          "execution_count": 44
        }
      ]
    },
    {
      "cell_type": "code",
      "source": [
        "np.var(st)"
      ],
      "metadata": {
        "colab": {
          "base_uri": "https://localhost:8080/"
        },
        "id": "dFRH3r0s8ox0",
        "outputId": "e96fffcc-6f8d-4c06-e099-8bfefad5357f"
      },
      "execution_count": null,
      "outputs": [
        {
          "output_type": "execute_result",
          "data": {
            "text/plain": [
              "597.9166666666666"
            ]
          },
          "metadata": {},
          "execution_count": 46
        }
      ]
    },
    {
      "cell_type": "code",
      "source": [
        "np.std(st)"
      ],
      "metadata": {
        "colab": {
          "base_uri": "https://localhost:8080/"
        },
        "id": "8H_hkVPj9mdh",
        "outputId": "99322479-d39e-41b4-abf8-ec3b408544bc"
      },
      "execution_count": null,
      "outputs": [
        {
          "output_type": "execute_result",
          "data": {
            "text/plain": [
              "24.452334585202017"
            ]
          },
          "metadata": {},
          "execution_count": 47
        }
      ]
    },
    {
      "cell_type": "code",
      "source": [
        "r=np.arange(1,5).reshape(2,2)\n",
        "print(r)"
      ],
      "metadata": {
        "colab": {
          "base_uri": "https://localhost:8080/"
        },
        "id": "6tIpqU0-_DqZ",
        "outputId": "bb4b698f-e6d1-4078-cb81-bc24ac5d7098"
      },
      "execution_count": null,
      "outputs": [
        {
          "output_type": "stream",
          "name": "stdout",
          "text": [
            "[[1 2]\n",
            " [3 4]]\n"
          ]
        }
      ]
    },
    {
      "cell_type": "code",
      "source": [
        "np.linalg.inv(r)"
      ],
      "metadata": {
        "colab": {
          "base_uri": "https://localhost:8080/"
        },
        "id": "pUXRzK3q-5Ql",
        "outputId": "a9710c06-0602-4916-f5da-f2232c48f757"
      },
      "execution_count": null,
      "outputs": [
        {
          "output_type": "execute_result",
          "data": {
            "text/plain": [
              "array([[-2. ,  1. ],\n",
              "       [ 1.5, -0.5]])"
            ]
          },
          "metadata": {},
          "execution_count": 49
        }
      ]
    },
    {
      "cell_type": "code",
      "source": [
        "r=np.arange(1,25).reshape(6,4)\n",
        "print(r)"
      ],
      "metadata": {
        "colab": {
          "base_uri": "https://localhost:8080/"
        },
        "id": "74Lnp1lAAEq7",
        "outputId": "b7c24e4d-6ff3-405b-a127-628ebbe3500f"
      },
      "execution_count": null,
      "outputs": [
        {
          "output_type": "stream",
          "name": "stdout",
          "text": [
            "[[ 1  2  3  4]\n",
            " [ 5  6  7  8]\n",
            " [ 9 10 11 12]\n",
            " [13 14 15 16]\n",
            " [17 18 19 20]\n",
            " [21 22 23 24]]\n"
          ]
        }
      ]
    },
    {
      "cell_type": "code",
      "source": [
        "print(np.argmax(r))"
      ],
      "metadata": {
        "colab": {
          "base_uri": "https://localhost:8080/"
        },
        "id": "zTj2nD0WAUgO",
        "outputId": "3c6b01c5-2d73-4b97-f622-fa18ef8dd457"
      },
      "execution_count": null,
      "outputs": [
        {
          "output_type": "stream",
          "name": "stdout",
          "text": [
            "23\n"
          ]
        }
      ]
    },
    {
      "cell_type": "code",
      "source": [
        "r=np.floor(10*np.random.rand(24)).reshape(6,4)\n",
        "print(r)\n"
      ],
      "metadata": {
        "colab": {
          "base_uri": "https://localhost:8080/"
        },
        "id": "AQVeVnHCA4R1",
        "outputId": "1a31d665-8d52-4f60-bbcc-17f3cdeea20d"
      },
      "execution_count": null,
      "outputs": [
        {
          "output_type": "stream",
          "name": "stdout",
          "text": [
            "[[0. 9. 4. 5.]\n",
            " [6. 6. 2. 5.]\n",
            " [9. 0. 3. 2.]\n",
            " [9. 8. 2. 7.]\n",
            " [0. 9. 7. 3.]\n",
            " [2. 4. 3. 3.]]\n"
          ]
        }
      ]
    },
    {
      "cell_type": "code",
      "source": [
        "print(np.argmax(r))"
      ],
      "metadata": {
        "colab": {
          "base_uri": "https://localhost:8080/"
        },
        "id": "n_e5wgCIBmDV",
        "outputId": "e1177a48-e3da-4074-82b8-7dc8ab9f3472"
      },
      "execution_count": null,
      "outputs": [
        {
          "output_type": "stream",
          "name": "stdout",
          "text": [
            "1\n"
          ]
        }
      ]
    },
    {
      "cell_type": "code",
      "source": [
        "print(np.argmax(r,axis=0))"
      ],
      "metadata": {
        "colab": {
          "base_uri": "https://localhost:8080/"
        },
        "id": "OJoKPx-DCJky",
        "outputId": "8a21cb9d-63a7-4f7e-f5f0-b0984af535a9"
      },
      "execution_count": null,
      "outputs": [
        {
          "output_type": "stream",
          "name": "stdout",
          "text": [
            "[2 0 4 3]\n"
          ]
        }
      ]
    },
    {
      "cell_type": "code",
      "source": [
        "print(np.argmax(r,axis=1))"
      ],
      "metadata": {
        "colab": {
          "base_uri": "https://localhost:8080/"
        },
        "id": "6GL3ZTlWCfzB",
        "outputId": "e464fc1a-b41f-4887-ccdf-cbdd7458a38f"
      },
      "execution_count": null,
      "outputs": [
        {
          "output_type": "stream",
          "name": "stdout",
          "text": [
            "[1 0 0 0 1 1]\n"
          ]
        }
      ]
    },
    {
      "cell_type": "code",
      "source": [
        "print(np.argmin(r))"
      ],
      "metadata": {
        "colab": {
          "base_uri": "https://localhost:8080/"
        },
        "id": "8Yt4Kn8OEfOK",
        "outputId": "8e2e782c-2497-4c35-a404-c041be35cfe2"
      },
      "execution_count": null,
      "outputs": [
        {
          "output_type": "stream",
          "name": "stdout",
          "text": [
            "0\n"
          ]
        }
      ]
    },
    {
      "cell_type": "code",
      "source": [
        "print(np.argmin(r,axis=0))"
      ],
      "metadata": {
        "colab": {
          "base_uri": "https://localhost:8080/"
        },
        "id": "4D9Z1kZtEllE",
        "outputId": "9de89296-f76a-4c2e-9d70-16a448c7f2e8"
      },
      "execution_count": null,
      "outputs": [
        {
          "output_type": "stream",
          "name": "stdout",
          "text": [
            "[0 2 1 2]\n"
          ]
        }
      ]
    },
    {
      "cell_type": "code",
      "source": [
        "print(np.argmin(r,axis=1))"
      ],
      "metadata": {
        "colab": {
          "base_uri": "https://localhost:8080/"
        },
        "id": "JaNo0qtLE5mq",
        "outputId": "940eb9f4-85df-4a93-cfa9-20e65a0b21fc"
      },
      "execution_count": null,
      "outputs": [
        {
          "output_type": "stream",
          "name": "stdout",
          "text": [
            "[0 2 1 2 0 0]\n"
          ]
        }
      ]
    },
    {
      "cell_type": "code",
      "source": [
        "#Searching\n",
        "v=np.array([34,25,27,47,74,88])\n",
        "print(np.where(v%2==0))\n",
        "print(np.where(v/2==0))"
      ],
      "metadata": {
        "colab": {
          "base_uri": "https://localhost:8080/"
        },
        "id": "es-ceKmFFLNX",
        "outputId": "8f169c7c-ec30-4d7e-f972-c2e9e0012e3f"
      },
      "execution_count": null,
      "outputs": [
        {
          "output_type": "stream",
          "name": "stdout",
          "text": [
            "(array([0, 4, 5]),)\n",
            "(array([], dtype=int64),)\n"
          ]
        }
      ]
    },
    {
      "cell_type": "code",
      "source": [
        "e=np.array([24,16,7,17,54,60])     #check index\n",
        "print(np.where(e%6==0))"
      ],
      "metadata": {
        "colab": {
          "base_uri": "https://localhost:8080/"
        },
        "id": "B0_I_6-dG0-t",
        "outputId": "79edf3ef-aa7b-4e8b-876b-f1314afd3f2a"
      },
      "execution_count": null,
      "outputs": [
        {
          "output_type": "stream",
          "name": "stdout",
          "text": [
            "(array([0, 4, 5]),)\n"
          ]
        }
      ]
    },
    {
      "cell_type": "code",
      "source": [
        "q=np.array([7,8,9,10,11])\n",
        "print(np.searchsorted(q,5))"
      ],
      "metadata": {
        "colab": {
          "base_uri": "https://localhost:8080/"
        },
        "id": "ct_E-fD5HaYH",
        "outputId": "78715d1c-57fe-44df-eb99-fc900a6f5507"
      },
      "execution_count": null,
      "outputs": [
        {
          "output_type": "stream",
          "name": "stdout",
          "text": [
            "0\n"
          ]
        }
      ]
    },
    {
      "cell_type": "code",
      "source": [
        "q=np.array([4,1,7,8,9,3])\n",
        "print(np.searchsorted(q,1))"
      ],
      "metadata": {
        "colab": {
          "base_uri": "https://localhost:8080/"
        },
        "id": "Nh7DBFqBIDnR",
        "outputId": "f0af249c-0607-4702-87e2-15c5a4b83f87"
      },
      "execution_count": null,
      "outputs": [
        {
          "output_type": "stream",
          "name": "stdout",
          "text": [
            "0\n"
          ]
        }
      ]
    },
    {
      "cell_type": "code",
      "source": [
        "import numpy as np #sorting array"
      ],
      "metadata": {
        "id": "0_EtYsBDI0Dj"
      },
      "execution_count": null,
      "outputs": []
    },
    {
      "cell_type": "code",
      "source": [
        "arr=np.array(['banana','apple','cherry'])\n",
        "print(np.sort(arr))"
      ],
      "metadata": {
        "colab": {
          "base_uri": "https://localhost:8080/"
        },
        "id": "N3kgOdkbI_9n",
        "outputId": "fafcc56c-1255-411f-eeed-93ffab845898"
      },
      "execution_count": null,
      "outputs": [
        {
          "output_type": "stream",
          "name": "stdout",
          "text": [
            "['apple' 'banana' 'cherry']\n"
          ]
        }
      ]
    },
    {
      "cell_type": "code",
      "source": [
        "arr=np.array(['true','false','true'])\n",
        "print(np.sort(arr))"
      ],
      "metadata": {
        "colab": {
          "base_uri": "https://localhost:8080/"
        },
        "id": "w-CnTLuxJV3s",
        "outputId": "e6e6c288-3fb1-42cc-b0e7-950401e5922e"
      },
      "execution_count": null,
      "outputs": [
        {
          "output_type": "stream",
          "name": "stdout",
          "text": [
            "['false' 'true' 'true']\n"
          ]
        }
      ]
    },
    {
      "cell_type": "code",
      "source": [
        "#2d sort -sorting happens with in row\n",
        "arr=np.array([[3,2,4],[5,0,1]])\n",
        "print(np.sort(arr))"
      ],
      "metadata": {
        "colab": {
          "base_uri": "https://localhost:8080/"
        },
        "id": "Ph8kdzxqJwxk",
        "outputId": "565475b7-dfa2-43d4-d0c6-9f5c02791aa2"
      },
      "execution_count": null,
      "outputs": [
        {
          "output_type": "stream",
          "name": "stdout",
          "text": [
            "[[2 3 4]\n",
            " [0 1 5]]\n"
          ]
        }
      ]
    },
    {
      "cell_type": "code",
      "source": [
        "arr=np.array([40,43,50,44,67,78])       #filtering\n",
        "filt=np.where(arr%2==0)\n",
        "print(filt)"
      ],
      "metadata": {
        "colab": {
          "base_uri": "https://localhost:8080/"
        },
        "id": "skybCav1MMoU",
        "outputId": "632d3497-614d-469c-af38-677acb4ef017"
      },
      "execution_count": null,
      "outputs": [
        {
          "output_type": "stream",
          "name": "stdout",
          "text": [
            "(array([0, 2, 3, 5]),)\n"
          ]
        }
      ]
    },
    {
      "cell_type": "code",
      "source": [
        "arr=np.array([40,49,30,47,57,98])\n",
        "filt=np.where(arr%2==0)\n",
        "print(filt)"
      ],
      "metadata": {
        "colab": {
          "base_uri": "https://localhost:8080/"
        },
        "id": "RMLZr58rM_I_",
        "outputId": "5589b245-1af0-437a-f4df-ebed368663a9"
      },
      "execution_count": null,
      "outputs": [
        {
          "output_type": "stream",
          "name": "stdout",
          "text": [
            "(array([0, 2, 5]),)\n"
          ]
        }
      ]
    },
    {
      "cell_type": "code",
      "source": [
        "names=np.array([\"narasimha\",\"nagesh\",\"ganesh\",\"dheeraj\",\"vamsi\"])\n",
        "initials=np.array([\"g\",\"g\",\"p\",\"t\",\"p\"])\n",
        "for i,j in zip(initials,names):\n",
        "  print(i,\",\",j)"
      ],
      "metadata": {
        "colab": {
          "base_uri": "https://localhost:8080/"
        },
        "id": "t1S2s6zoNnqh",
        "outputId": "3255d6c9-bbcb-4512-8175-b532f6e34f5f"
      },
      "execution_count": null,
      "outputs": [
        {
          "output_type": "stream",
          "name": "stdout",
          "text": [
            "g , narasimha\n",
            "g , nagesh\n",
            "p , ganesh\n",
            "t , dheeraj\n",
            "p , vamsi\n"
          ]
        }
      ]
    },
    {
      "cell_type": "code",
      "source": [
        "a1=np.array([10,20,30,40,50,60])\n",
        "a2=np.array([20,21,22,23,24,25])\n",
        "n=np.multiply(a1,a2)\n",
        "print(n)"
      ],
      "metadata": {
        "colab": {
          "base_uri": "https://localhost:8080/"
        },
        "id": "0h8LEtvpQN3y",
        "outputId": "ef9ebf77-7137-4101-cbd1-09ed7af53620"
      },
      "execution_count": null,
      "outputs": [
        {
          "output_type": "stream",
          "name": "stdout",
          "text": [
            "[ 200  420  660  920 1200 1500]\n"
          ]
        }
      ]
    },
    {
      "cell_type": "code",
      "source": [
        "a1=np.array([10,20,30,40,50,60])\n",
        "a2=np.array([20,21,22,23,24,25])\n",
        "n=np.divide(a1,a2)\n",
        "print(n)"
      ],
      "metadata": {
        "colab": {
          "base_uri": "https://localhost:8080/"
        },
        "id": "wlbAXa9jQ17x",
        "outputId": "11b471ed-1448-4963-ae1e-00b860e103ea"
      },
      "execution_count": null,
      "outputs": [
        {
          "output_type": "stream",
          "name": "stdout",
          "text": [
            "[0.5        0.95238095 1.36363636 1.73913043 2.08333333 2.4       ]\n"
          ]
        }
      ]
    },
    {
      "cell_type": "code",
      "source": [
        "a1=np.array([10,20,30,40,50,60])\n",
        "a2=np.array([20,21,22,23,24,25])\n",
        "n=np.mod(a1,a2)\n",
        "print(n)"
      ],
      "metadata": {
        "colab": {
          "base_uri": "https://localhost:8080/"
        },
        "id": "1pCYVzdIQ-K5",
        "outputId": "a41cf76c-283a-456a-b221-acf26e4fd434"
      },
      "execution_count": null,
      "outputs": [
        {
          "output_type": "stream",
          "name": "stdout",
          "text": [
            "[10 20  8 17  2 10]\n"
          ]
        }
      ]
    },
    {
      "cell_type": "code",
      "source": [
        "a1=np.array([10,20,30,40,50,60])\n",
        "a2=np.array([20,21,22,23,24,25])\n",
        "n=np.divmod(a1,a2)\n",
        "print(n)"
      ],
      "metadata": {
        "colab": {
          "base_uri": "https://localhost:8080/"
        },
        "id": "1cpQHZQrRBwn",
        "outputId": "d938ca22-1667-45c1-a862-1800be2d0630"
      },
      "execution_count": null,
      "outputs": [
        {
          "output_type": "stream",
          "name": "stdout",
          "text": [
            "(array([0, 0, 1, 1, 2, 2]), array([10, 20,  8, 17,  2, 10]))\n"
          ]
        }
      ]
    },
    {
      "cell_type": "code",
      "source": [
        "#logarithms\n",
        "a1=np.arange(2,10)\n",
        "print(a1)\n",
        "print(np.log2(a1))"
      ],
      "metadata": {
        "colab": {
          "base_uri": "https://localhost:8080/"
        },
        "id": "RzrrCzfwSY6T",
        "outputId": "a7800886-51d7-4634-c7f1-c87565bb7d37"
      },
      "execution_count": null,
      "outputs": [
        {
          "output_type": "stream",
          "name": "stdout",
          "text": [
            "[2 3 4 5 6 7 8 9]\n",
            "[1.         1.5849625  2.         2.32192809 2.5849625  2.80735492\n",
            " 3.         3.169925  ]\n"
          ]
        }
      ]
    },
    {
      "cell_type": "code",
      "source": [
        "a=1.2\n",
        "print(np.log(a))   #natural log e"
      ],
      "metadata": {
        "colab": {
          "base_uri": "https://localhost:8080/"
        },
        "id": "WdrV0XwqTIav",
        "outputId": "74f429df-7aee-414c-ee24-c63bdaec28f2"
      },
      "execution_count": null,
      "outputs": [
        {
          "output_type": "stream",
          "name": "stdout",
          "text": [
            "0.1823215567939546\n"
          ]
        }
      ]
    },
    {
      "cell_type": "code",
      "source": [
        "a=1.2\n",
        "print(np.log2(a))   #log base 2"
      ],
      "metadata": {
        "colab": {
          "base_uri": "https://localhost:8080/"
        },
        "id": "3p64ALt3Tfei",
        "outputId": "93d643ad-ec5b-47e6-db0a-1017d8e74028"
      },
      "execution_count": null,
      "outputs": [
        {
          "output_type": "stream",
          "name": "stdout",
          "text": [
            "0.2630344058337938\n"
          ]
        }
      ]
    },
    {
      "cell_type": "code",
      "source": [
        "a=2.2\n",
        "print(np.log10(a))   #log base 10"
      ],
      "metadata": {
        "colab": {
          "base_uri": "https://localhost:8080/"
        },
        "id": "kjm8OZUNTo8u",
        "outputId": "9d42d435-5fe4-4f72-8512-d437e37d2020"
      },
      "execution_count": null,
      "outputs": [
        {
          "output_type": "stream",
          "name": "stdout",
          "text": [
            "0.3424226808222063\n"
          ]
        }
      ]
    },
    {
      "cell_type": "code",
      "source": [
        "a=np.array([1,1.2,3,4])\n",
        "print(np.log(a))  #natural log e"
      ],
      "metadata": {
        "colab": {
          "base_uri": "https://localhost:8080/"
        },
        "id": "Im2hRmKYTzFU",
        "outputId": "5ae5e47f-899b-4651-cd9d-3e27e71860b1"
      },
      "execution_count": null,
      "outputs": [
        {
          "output_type": "stream",
          "name": "stdout",
          "text": [
            "[0.         0.18232156 1.09861229 1.38629436]\n"
          ]
        }
      ]
    },
    {
      "cell_type": "code",
      "source": [
        "#other mathematical statements\n",
        "a1=np.array([10,15,25,15])     #e2-e1\n",
        "newarr=np.diff(a1)\n",
        "print(newarr)"
      ],
      "metadata": {
        "colab": {
          "base_uri": "https://localhost:8080/"
        },
        "id": "PQPMlmFBUvQX",
        "outputId": "117be7c3-8d26-492c-cea3-056f4e5b3b24"
      },
      "execution_count": null,
      "outputs": [
        {
          "output_type": "stream",
          "name": "stdout",
          "text": [
            "[  5  10 -10]\n"
          ]
        }
      ]
    },
    {
      "cell_type": "code",
      "source": [
        "num1=455\n",
        "num2=665\n",
        "x=np.lcm(num1,num2)\n",
        "print(x)"
      ],
      "metadata": {
        "colab": {
          "base_uri": "https://localhost:8080/"
        },
        "id": "x9TD-q3xVWnm",
        "outputId": "535c569f-c516-4331-9276-edf0a70c8f39"
      },
      "execution_count": null,
      "outputs": [
        {
          "output_type": "stream",
          "name": "stdout",
          "text": [
            "8645\n"
          ]
        }
      ]
    },
    {
      "cell_type": "code",
      "source": [
        "num1=455\n",
        "num2=665\n",
        "x=np.gcd(num1,num2)\n",
        "print(x)"
      ],
      "metadata": {
        "colab": {
          "base_uri": "https://localhost:8080/"
        },
        "id": "rt6ml5K1V_G1",
        "outputId": "221a72c2-baff-48a9-f2a7-01847256aeb8"
      },
      "execution_count": null,
      "outputs": [
        {
          "output_type": "stream",
          "name": "stdout",
          "text": [
            "35\n"
          ]
        }
      ]
    },
    {
      "cell_type": "code",
      "source": [
        "a2=np.array([10,15,20,25,30])\n",
        "x=np.cumsum(a2)\n",
        "print(x)"
      ],
      "metadata": {
        "colab": {
          "base_uri": "https://localhost:8080/"
        },
        "id": "x1DcWLdAWRra",
        "outputId": "daeb29dd-894a-423a-8a60-f492f9d6be73"
      },
      "execution_count": null,
      "outputs": [
        {
          "output_type": "stream",
          "name": "stdout",
          "text": [
            "[ 10  25  45  70 100]\n"
          ]
        }
      ]
    },
    {
      "cell_type": "code",
      "source": [
        "a=np.array([12,15,60])\n",
        "gc=np.gcd.reduce(a)    #Reduce function takes multiple inputs give single output\n",
        "print(gc)"
      ],
      "metadata": {
        "colab": {
          "base_uri": "https://localhost:8080/"
        },
        "id": "9m63WtHxW5gJ",
        "outputId": "05f0fae2-8263-49c6-bce0-130ea413d29c"
      },
      "execution_count": null,
      "outputs": [
        {
          "output_type": "stream",
          "name": "stdout",
          "text": [
            "3\n"
          ]
        }
      ]
    },
    {
      "cell_type": "code",
      "source": [
        "a=np.array([12,15,60])\n",
        "lc=np.lcm.reduce(a)    #Reduce function takes multiple inputs give single output\n",
        "print(lc)"
      ],
      "metadata": {
        "colab": {
          "base_uri": "https://localhost:8080/"
        },
        "id": "9lFcXWYyXX4M",
        "outputId": "515b1cda-7b07-42d3-f0bc-ab665c98d5b7"
      },
      "execution_count": null,
      "outputs": [
        {
          "output_type": "stream",
          "name": "stdout",
          "text": [
            "60\n"
          ]
        }
      ]
    }
  ]
}