{
  "nbformat": 4,
  "nbformat_minor": 0,
  "metadata": {
    "colab": {
      "provenance": []
    },
    "kernelspec": {
      "name": "python3",
      "display_name": "Python 3"
    },
    "language_info": {
      "name": "python"
    }
  },
  "cells": [
    {
      "cell_type": "code",
      "execution_count": null,
      "metadata": {
        "colab": {
          "base_uri": "https://localhost:8080/"
        },
        "id": "Ul3g2Vr7qhtY",
        "outputId": "bded40b1-d6bc-41e4-e330-cc73b369334e"
      },
      "outputs": [
        {
          "output_type": "stream",
          "name": "stdout",
          "text": [
            "i am 5 years old\n"
          ]
        }
      ],
      "source": [
        "#variable and print\n",
        "a=5\n",
        "print(\"i am\",a,\"years old\")\n"
      ]
    },
    {
      "cell_type": "code",
      "source": [
        "#arithmetic\n",
        "a=5\n",
        "b=25\n",
        "print(a+b)"
      ],
      "metadata": {
        "colab": {
          "base_uri": "https://localhost:8080/"
        },
        "id": "HXTODBsxrwPm",
        "outputId": "928cf00c-b1fd-4b45-fb26-ba6268bd6cad"
      },
      "execution_count": null,
      "outputs": [
        {
          "output_type": "stream",
          "name": "stdout",
          "text": [
            "30\n"
          ]
        }
      ]
    },
    {
      "cell_type": "code",
      "source": [
        "#power\n",
        "print(2**5)"
      ],
      "metadata": {
        "colab": {
          "base_uri": "https://localhost:8080/"
        },
        "id": "cqzjVFFCsLYd",
        "outputId": "bb642441-ad9b-48d9-c209-09a994686777"
      },
      "execution_count": null,
      "outputs": [
        {
          "output_type": "stream",
          "name": "stdout",
          "text": [
            "32\n"
          ]
        }
      ]
    },
    {
      "cell_type": "code",
      "source": [
        "#floor div\n",
        "print(25//2)"
      ],
      "metadata": {
        "colab": {
          "base_uri": "https://localhost:8080/"
        },
        "id": "eCAKsBuvspxR",
        "outputId": "a0d72d8c-9728-47a2-e220-569987be0f7b"
      },
      "execution_count": null,
      "outputs": [
        {
          "output_type": "stream",
          "name": "stdout",
          "text": [
            "12\n"
          ]
        }
      ]
    },
    {
      "cell_type": "code",
      "source": [],
      "metadata": {
        "id": "86IyCns9thDl"
      },
      "execution_count": null,
      "outputs": []
    },
    {
      "cell_type": "code",
      "source": [
        "#relational\n",
        "a=7\n",
        "b=7\n",
        "print(a==b)\n",
        "print(a>=b)\n",
        "print(a<=b)\n",
        "print(a!=b)\n",
        "print(a>b)\n",
        "print(a<b)"
      ],
      "metadata": {
        "colab": {
          "base_uri": "https://localhost:8080/"
        },
        "id": "4UsIOOeosxdb",
        "outputId": "ea1ff2f2-38bf-4925-89a3-1d0371d822e3"
      },
      "execution_count": null,
      "outputs": [
        {
          "output_type": "stream",
          "name": "stdout",
          "text": [
            "True\n",
            "True\n",
            "True\n",
            "False\n",
            "False\n",
            "False\n"
          ]
        }
      ]
    },
    {
      "cell_type": "code",
      "source": [
        "#logical\n",
        "a=0\n",
        "b=25\n",
        "print(a>b) and (a<b)       #false and true"
      ],
      "metadata": {
        "colab": {
          "base_uri": "https://localhost:8080/"
        },
        "id": "SCVGRdM4tji-",
        "outputId": "81d82f0a-308c-4cef-9611-d6faa3ad2024"
      },
      "execution_count": null,
      "outputs": [
        {
          "output_type": "stream",
          "name": "stdout",
          "text": [
            "False\n"
          ]
        }
      ]
    },
    {
      "cell_type": "code",
      "source": [
        "#logical\n",
        "a=0\n",
        "b=25\n",
        "print(a>b) or (a<b)        #false or true"
      ],
      "metadata": {
        "colab": {
          "base_uri": "https://localhost:8080/"
        },
        "id": "3sGnGf1VuA-K",
        "outputId": "365dd006-37cb-4394-812a-aba62ff19c7a"
      },
      "execution_count": null,
      "outputs": [
        {
          "output_type": "stream",
          "name": "stdout",
          "text": [
            "False\n"
          ]
        },
        {
          "output_type": "execute_result",
          "data": {
            "text/plain": [
              "True"
            ]
          },
          "metadata": {},
          "execution_count": 9
        }
      ]
    },
    {
      "cell_type": "code",
      "source": [
        "#membership\n",
        "a=\"kalki\"\n",
        "print(a in a)"
      ],
      "metadata": {
        "colab": {
          "base_uri": "https://localhost:8080/"
        },
        "id": "NExOd451uacQ",
        "outputId": "269bafba-13e0-4ba2-9e57-e2fc28b3af0c"
      },
      "execution_count": null,
      "outputs": [
        {
          "output_type": "stream",
          "name": "stdout",
          "text": [
            "True\n"
          ]
        }
      ]
    },
    {
      "cell_type": "code",
      "source": [
        "#membership\n",
        "a=\"kalki\"\n",
        "b=\"raja saab\"\n",
        "print(a in b)"
      ],
      "metadata": {
        "colab": {
          "base_uri": "https://localhost:8080/"
        },
        "id": "q9dsS_IRu0Iv",
        "outputId": "0c57a20d-8696-406f-9414-c2bf19e45c32"
      },
      "execution_count": null,
      "outputs": [
        {
          "output_type": "stream",
          "name": "stdout",
          "text": [
            "False\n"
          ]
        }
      ]
    },
    {
      "cell_type": "code",
      "source": [
        "#conditional.if\n",
        "#write a program to get a number from the user and check whether it is positive or negative\n",
        "a=int(input(\"enter a number:\"))\n",
        "print(type(a))"
      ],
      "metadata": {
        "colab": {
          "base_uri": "https://localhost:8080/"
        },
        "id": "-y4LGKG_vNOD",
        "outputId": "b5187156-2ede-409e-c92d-d26aa42fd550"
      },
      "execution_count": null,
      "outputs": [
        {
          "output_type": "stream",
          "name": "stdout",
          "text": [
            "enter a number:47\n",
            "<class 'int'>\n"
          ]
        }
      ]
    },
    {
      "cell_type": "code",
      "source": [
        "n=int(input(\"enter a number\"))\n",
        "i=1\n",
        "while(i<=10):\n",
        "  print(n*i)\n",
        "  i=i+1\n"
      ],
      "metadata": {
        "id": "IWUkjKBk8ZOz"
      },
      "execution_count": null,
      "outputs": []
    }
  ]
}